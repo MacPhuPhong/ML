{
 "cells": [
  {
   "cell_type": "markdown",
   "id": "16de9ae7",
   "metadata": {},
   "source": [
    "### 📐 Tính Toán Gradient Cục Bộ Trên Ảnh Xám\n",
    "\n",
    "#### 1. Khái niệm Gradient trong xử lý ảnh\n",
    "Gradient trong ảnh xám là một đại lượng vector biểu thị **mức độ thay đổi cường độ sáng** tại một điểm ảnh.  \n",
    "Nói cách khác, gradient cho biết **mức độ biến thiên và hướng thay đổi** của độ sáng — thường được dùng để **phát hiện biên (edge detection)** trong ảnh.\n",
    "\n",
    "Gradient gồm hai thành phần:\n",
    "- \\( G_x \\): độ biến thiên theo **trục ngang (x)**  \n",
    "- \\( G_y \\): độ biến thiên theo **trục dọc (y)**  \n",
    "\n",
    "Từ đó, **độ lớn gradient** được tính bằng công thức:\n",
    "$$\n",
    "|G| = \\sqrt{G_x^2 + G_y^2}\n",
    "$$\n",
    "và **hướng gradient** (góc nghiêng của biên) là:\n",
    "$$\n",
    "\\theta = \\arctan\\left(\\frac{G_y}{G_x}\\right)\n",
    "$$\n",
    "\n",
    "---\n",
    "\n",
    "#### 2. Cách tính trong đoạn mã\n",
    "Trong ví dụ, ma trận ảnh xám \\( A \\) kích thước **3x3** được tạo thủ công:\n",
    "\\[\n",
    "A =\n",
    "\\begin{bmatrix}\n",
    "25 & 50 & 50 \\\\\n",
    "20 & 40 & 49 \\\\\n",
    "22 & 36 & 36\n",
    "\\end{bmatrix}\n",
    "\\]\n",
    "\n",
    "Tại điểm **trung tâm (1,1)**, gradient được ước lượng bằng **hiệu số cường độ giữa các điểm kề**:\n",
    "- \\( G_x = A[1,2] - A[1,0] \\) → sự thay đổi theo chiều ngang  \n",
    "- \\( G_y = A[2,1] - A[0,1] \\) → sự thay đổi theo chiều dọc  \n",
    "\n",
    "Công thức này tương đương với **phép lấy đạo hàm rời rạc (finite difference)** — một kỹ thuật cơ bản trong xử lý ảnh số để xấp xỉ đạo hàm liên tục.\n",
    "\n",
    "---\n",
    "\n",
    "#### 3. Nhận xét kết quả\n",
    "Kết quả in ra gồm:\n",
    "- Ma trận giá trị ảnh gốc.  \n",
    "- Giá trị **gradient theo trục x (Gx)** và **trục y (Gy)**.  \n",
    "- **Độ lớn gradient trung tâm** – biểu thị cường độ biên tại điểm đó.\n",
    "\n",
    "Nếu độ lớn gradient cao, có thể suy ra **biên hoặc vùng chuyển sắc mạnh** tại vị trí đó.  \n",
    "Ngược lại, nếu gradient gần 0, khu vực này có thể là vùng **đồng nhất (uniform region)**.\n",
    "\n",
    "---\n",
    "\n",
    "#### 4. Ứng dụng mở rộng\n",
    "Kỹ thuật tính gradient này là **nền tảng của nhiều thuật toán xử lý ảnh**, bao gồm:\n",
    "- **Phát hiện biên Sobel, Prewitt, Canny**  \n",
    "- **Phát hiện góc (corner detection)**  \n",
    "- **Tăng cường độ tương phản địa phương**  \n",
    "- **Tính toán hướng gradient trong HOG (Histogram of Oriented Gradients)**  \n",
    "\n",
    "Việc hiểu rõ gradient cục bộ giúp nắm vững cách máy tính “cảm nhận” sự thay đổi cấu trúc trong hình ảnh.\n"
   ]
  },
  {
   "cell_type": "code",
   "execution_count": null,
   "id": "5c41ca96",
   "metadata": {},
   "outputs": [
    {
     "name": "stdout",
     "output_type": "stream",
     "text": [
      "Ma trận A:\n",
      "[[25 50 50]\n",
      " [20 40 49]\n",
      " [22 36 36]]\n",
      "Gradient theo trục x tại điểm trung tâm: 29\n",
      "Gradient theo trục y tại điểm trung tâm: -14\n",
      "Độ lớn gradient trung tâm: 32.202484376209235\n"
     ]
    }
   ],
   "source": [
    "import numpy as np\n",
    "\n",
    "# Ma trận ảnh xám 3x3 tự tạo\n",
    "A = np.array([[25, 50, 50],\n",
    "              [20, 40, 49],\n",
    "              [22, 36, 36]])\n",
    "\n",
    "# Tính gradient tại điểm trung tâm (1,1)\n",
    "\n",
    "Gx = (A[1,2]) - (A[1,0])\n",
    "Gy = (A[2,1]) - (A[0,1])\n",
    "\n",
    "print(\"Ma trận A:\")\n",
    "print(A)\n",
    "print(\"Gradient theo trục x tại điểm trung tâm:\", Gx)\n",
    "print(\"Gradient theo trục y tại điểm trung tâm:\", Gy)\n",
    "print(\"Độ lớn gradient trung tâm:\", np.sqrt(Gx**2 + Gy**2))\n",
    "\n"
   ]
  },
  {
   "cell_type": "code",
   "execution_count": null,
   "id": "cab9c4bb",
   "metadata": {},
   "outputs": [
    {
     "name": "stdout",
     "output_type": "stream",
     "text": [
      "Ma trận B:\n",
      "[[125 130 150]\n",
      " [200 190 167]\n",
      " [222 156 236]]\n",
      "Gradient theo trục x tại điểm trung tâm: -33\n",
      "Gradient theo trục y tại điểm trung tâm: 26\n",
      "Độ lớn gradient trung tâm: 42.01190307520001\n"
     ]
    }
   ],
   "source": [
    "import numpy as np\n",
    "\n",
    "B = np.array([[125,130,150],\n",
    "              [200,190,167],\n",
    "              [222,156,236]])\n",
    "\n",
    "Gx = (B[1,2]) - (B[1,0])\n",
    "Gy = (B[2,1]) - (B[0,1])\n",
    "\n",
    "print(\"Ma trận B:\")\n",
    "print(B)\n",
    "print(\"Gradient theo trục x tại điểm trung tâm:\", Gx)\n",
    "print(\"Gradient theo trục y tại điểm trung tâm:\", Gy)\n",
    "print(\"Độ lớn gradient trung tâm:\", np.sqrt(Gx**2 + Gy**2))"
   ]
  }
 ],
 "metadata": {
  "kernelspec": {
   "display_name": "Python 3",
   "language": "python",
   "name": "python3"
  },
  "language_info": {
   "codemirror_mode": {
    "name": "ipython",
    "version": 3
   },
   "file_extension": ".py",
   "mimetype": "text/x-python",
   "name": "python",
   "nbconvert_exporter": "python",
   "pygments_lexer": "ipython3",
   "version": "3.10.12"
  }
 },
 "nbformat": 4,
 "nbformat_minor": 5
}
