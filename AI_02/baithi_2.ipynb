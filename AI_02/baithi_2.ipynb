{
 "cells": [
  {
   "cell_type": "markdown",
   "id": "a391f6b0",
   "metadata": {},
   "source": [
    "CELL 1: chuẩn hóa toàn bộ dữ liệu \n"
   ]
  },
  {
   "cell_type": "code",
   "execution_count": 1,
   "id": "80917668",
   "metadata": {},
   "outputs": [
    {
     "name": "stdout",
     "output_type": "stream",
     "text": [
      "✅ Đã tạo file Iris_2features_normalized.csv với 2 đặc trưng chuẩn hóa trong khoảng [0, 1]\n"
     ]
    }
   ],
   "source": [
    "import pandas as pd\n",
    "from sklearn.preprocessing import MinMaxScaler\n",
    "\n",
    "# 1. Đọc dữ liệu từ file gốc\n",
    "df = pd.read_csv('Iris.csv')\n",
    "\n",
    "# 2. Lấy 4 đặc trưng gốc (bỏ Id, Species)\n",
    "features = df.drop(columns=['Id', 'Species'])\n",
    "\n",
    "# 3. Biến 4 đặc trưng thành 2 đặc trưng (ví dụ ghép cặp hoặc kết hợp tuyến tính)\n",
    "# Ở đây ta lấy trung bình 2 nhóm làm ví dụ\n",
    "df['Feature1'] = (df['SepalLengthCm'] + df['SepalWidthCm']) / 2\n",
    "df['Feature2'] = (df['PetalLengthCm'] + df['PetalWidthCm']) / 2\n",
    "\n",
    "# 4. Chỉ lấy 2 đặc trưng mới để chuẩn hóa\n",
    "features_2d = df[['Feature1', 'Feature2']]\n",
    "\n",
    "# 5. Chuẩn hóa dữ liệu về khoảng [0, 1]\n",
    "scaler = MinMaxScaler(feature_range=(0, 1))\n",
    "features_scaled = scaler.fit_transform(features_2d)\n",
    "\n",
    "# 6. Tạo DataFrame mới chứa dữ liệu chuẩn hóa\n",
    "normalized_df = pd.DataFrame(features_scaled, columns=['Feature1', 'Feature2'])\n",
    "normalized_df['Species'] = df['Species']\n",
    "normalized_df.insert(0, 'Id', df['Id'])\n",
    "\n",
    "# 7. Lưu ra file CSV\n",
    "normalized_df.to_csv('Iris_2features_normalized.csv', index=False)\n",
    "\n",
    "print(\"✅ Đã tạo file Iris_2features_normalized.csv với 2 đặc trưng chuẩn hóa trong khoảng [0, 1]\")\n"
   ]
  },
  {
   "cell_type": "code",
   "execution_count": 2,
   "id": "9db14dda",
   "metadata": {},
   "outputs": [
    {
     "name": "stdout",
     "output_type": "stream",
     "text": [
      "Đã tạo folder_1 với 30 mẫu.\n",
      "Đã tạo folder_2 với 30 mẫu.\n",
      "Đã tạo folder_3 với 30 mẫu.\n",
      "Đã tạo folder_4 với 30 mẫu.\n",
      "Đã tạo folder_5 với 30 mẫu.\n",
      "Hoàn tất chia dữ liệu thành 5 folder.\n"
     ]
    }
   ],
   "source": [
    "import pandas as pd\n",
    "import os\n",
    "\n",
    "# đọc dữ liệu từ file đã chuẩn hóa\n",
    "df = pd.read_csv('Iris_2features_normalized.csv')\n",
    "\n",
    "# tạo thư mục để lưu các file mới nếu chưa tồn tại\n",
    "base_dir = \"iris_folder\"\n",
    "os.makedirs(base_dir, exist_ok=True)\n",
    "\n",
    "# Định nghĩa các nhóm ID cho từng folder\n",
    "folder_ranges = {\n",
    "    1: list(range(1, 11)) + list(range(51, 61)) + list(range(101, 111)),\n",
    "    2: list(range(11, 21)) + list(range(61, 71)) + list(range(111, 121)),\n",
    "    3: list(range(21, 31)) + list(range(71, 81)) + list(range(121, 131)),\n",
    "    4: list(range(31, 41)) + list(range(81, 91)) + list(range(131, 141)),\n",
    "    5: list(range(41, 51)) + list(range(91, 101)) + list(range(141, 151))\n",
    "}\n",
    "\n",
    "# Lặp qua từng folder và lưu dữ liệu tương ứng\n",
    "for folder_num, ids in folder_ranges.items():\n",
    "    folder_path = os.path.join(base_dir, f\"folder_{folder_num}\")\n",
    "    os.makedirs(folder_path, exist_ok=True)\n",
    "\n",
    "    subset = df[df['Id'].isin(ids)]\n",
    "    subset.to_csv(os.path.join(folder_path, f\"iris_part_{folder_num}.csv\"), index=False)\n",
    "\n",
    "    print(f\"Đã tạo folder_{folder_num} với {len(subset)} mẫu.\")\n",
    "\n",
    "print(\"Hoàn tất chia dữ liệu thành 5 folder.\")"
   ]
  },
  {
   "cell_type": "code",
   "execution_count": null,
   "id": "a5fede35",
   "metadata": {},
   "outputs": [
    {
     "ename": "FileNotFoundError",
     "evalue": "[Errno 2] No such file or directory: '/media/pphong/D/ML_DL/ML/AI_02/iris_folder/folder_1'",
     "output_type": "error",
     "traceback": [
      "\u001b[0;31m---------------------------------------------------------------------------\u001b[0m",
      "\u001b[0;31mFileNotFoundError\u001b[0m                         Traceback (most recent call last)",
      "Cell \u001b[0;32mIn[3], line 21\u001b[0m\n\u001b[1;32m     17\u001b[0m \u001b[38;5;66;03m# =================================================\u001b[39;00m\n\u001b[1;32m     18\u001b[0m \n\u001b[1;32m     19\u001b[0m \u001b[38;5;66;03m# === Tìm file test CSV trong folder test ===\u001b[39;00m\n\u001b[1;32m     20\u001b[0m test_folder_path \u001b[38;5;241m=\u001b[39m os\u001b[38;5;241m.\u001b[39mpath\u001b[38;5;241m.\u001b[39mjoin(base_dir, test_folder)\n\u001b[0;32m---> 21\u001b[0m csv_files \u001b[38;5;241m=\u001b[39m [f \u001b[38;5;28;01mfor\u001b[39;00m f \u001b[38;5;129;01min\u001b[39;00m \u001b[43mos\u001b[49m\u001b[38;5;241;43m.\u001b[39;49m\u001b[43mlistdir\u001b[49m\u001b[43m(\u001b[49m\u001b[43mtest_folder_path\u001b[49m\u001b[43m)\u001b[49m \u001b[38;5;28;01mif\u001b[39;00m f\u001b[38;5;241m.\u001b[39mendswith(\u001b[38;5;124m'\u001b[39m\u001b[38;5;124m.csv\u001b[39m\u001b[38;5;124m'\u001b[39m)]\n\u001b[1;32m     22\u001b[0m \u001b[38;5;28;01mif\u001b[39;00m \u001b[38;5;28mlen\u001b[39m(csv_files) \u001b[38;5;241m==\u001b[39m \u001b[38;5;241m0\u001b[39m:\n\u001b[1;32m     23\u001b[0m     \u001b[38;5;28;01mraise\u001b[39;00m \u001b[38;5;167;01mFileNotFoundError\u001b[39;00m(\u001b[38;5;124mf\u001b[39m\u001b[38;5;124m\"\u001b[39m\u001b[38;5;124m❌ Không tìm thấy file CSV nào trong \u001b[39m\u001b[38;5;132;01m{\u001b[39;00mtest_folder_path\u001b[38;5;132;01m}\u001b[39;00m\u001b[38;5;124m\"\u001b[39m)\n",
      "\u001b[0;31mFileNotFoundError\u001b[0m: [Errno 2] No such file or directory: '/media/pphong/D/ML_DL/ML/AI_02/iris_folder/folder_1'"
     ]
    }
   ],
   "source": [
    "import pandas as pd\n",
    "import numpy as np\n",
    "import os\n",
    "\n",
    "# === HÀM TÍNH KHOẢNG CÁCH MANHATTAN ===\n",
    "def manhattan_distance(x1, x2):\n",
    "    return np.sum(np.abs(x1 - x2))\n",
    "\n",
    "# === HÀM DỰ ĐOÁN CLASS GẦN NHẤT ===\n",
    "def predict_label(test_sample, train_features, train_labels):\n",
    "    distances = [manhattan_distance(test_sample, train_features.iloc[i]) for i in range(len(train_features))]\n",
    "    nearest_index = np.argmin(distances)\n",
    "    return train_labels.iloc[nearest_index]\n",
    "\n",
    "# === THƯ MỤC GỐC CHỨA 5 FOLDER ===\n",
    "base_dir = \"/media/pphong/D/ML_DL/ML/AI_02/iris_folder\"\n",
    "\n",
    "# === DANH SÁCH FOLDER ===\n",
    "folders = [f\"folder_{i}\" for i in range(1, 6)]\n",
    "results = []   # Lưu accuracy từng lần\n",
    "\n",
    "# === CHẠY 5 LẦN (5-FOLD) ===\n",
    "for test_folder in folders:\n",
    "    print(f\"\\n===== 🧪 Test với {test_folder} =====\")\n",
    "\n",
    "    # 1️⃣ Lấy dữ liệu test\n",
    "    test_path = os.path.join(base_dir, test_folder)\n",
    "    test_csv = [f for f in os.listdir(test_path) if f.endswith('.csv')]\n",
    "    if not test_csv:\n",
    "        raise FileNotFoundError(f\"Không tìm thấy file CSV trong {test_path}\")\n",
    "    test_df = pd.read_csv(os.path.join(test_path, test_csv[0]))\n",
    "\n",
    "    # 2️⃣ Lấy dữ liệu train từ 4 folder còn lại\n",
    "    train_folders = [f for f in folders if f != test_folder]\n",
    "    train_dfs = []\n",
    "    for f in train_folders:\n",
    "        csvs = [c for c in os.listdir(os.path.join(base_dir, f)) if c.endswith('.csv')]\n",
    "        if not csvs:\n",
    "            raise FileNotFoundError(f\"Không tìm thấy CSV trong {f}\")\n",
    "        train_dfs.append(pd.read_csv(os.path.join(base_dir, f, csvs[0])))\n",
    "    train_df = pd.concat(train_dfs, ignore_index=True)\n",
    "\n",
    "    # 3️⃣ Chuẩn hóa dữ liệu (0–1) theo tập train\n",
    "    X_train = train_df.drop(columns=['Id', 'Species'])\n",
    "    y_train = train_df['Species']\n",
    "    X_test = test_df.drop(columns=['Id', 'Species'])\n",
    "    y_test = test_df['Species']\n",
    "\n",
    "    X_train_norm = (X_train - X_train.min()) / (X_train.max() - X_train.min())\n",
    "    X_test_norm = (X_test - X_train.min()) / (X_train.max() - X_train.min())\n",
    "\n",
    "    # 4️⃣ Dự đoán\n",
    "    predictions = [predict_label(X_test_norm.iloc[i], X_train_norm, y_train) for i in range(len(X_test_norm))]\n",
    "\n",
    "    # 5️⃣ Đánh giá độ chính xác\n",
    "    accuracy = np.mean(np.array(predictions) == np.array(y_test))\n",
    "    results.append(accuracy)\n",
    "    print(f\"✅ Accuracy = {accuracy:.3f}\")\n",
    "\n",
    "    # 6️⃣ Lưu file kết quả\n",
    "    result_df = test_df.copy()\n",
    "    result_df['Predicted'] = predictions\n",
    "    result_path = os.path.join(base_dir, f\"result_{test_folder}.csv\")\n",
    "    result_df.to_csv(result_path, index=False)\n",
    "    print(f\"📂 Đã lưu: {result_path}\")\n",
    "\n",
    "# === TỔNG KẾT ===\n",
    "print(\"\\n=== 📊 KẾT QUẢ 5-FOLD CROSS-VALIDATION ===\")\n",
    "for i, acc in enumerate(results, 1):\n",
    "    print(f\"Fold {i}: Accuracy = {acc:.3f}\")\n",
    "print(f\"👉 Mean accuracy = {np.mean(results):.3f}\")\n"
   ]
  },
  {
   "cell_type": "code",
   "execution_count": null,
   "id": "40164eae",
   "metadata": {},
   "outputs": [],
   "source": []
  },
  {
   "cell_type": "code",
   "execution_count": null,
   "id": "04886d2e",
   "metadata": {},
   "outputs": [],
   "source": []
  },
  {
   "cell_type": "code",
   "execution_count": null,
   "id": "a37f0de1",
   "metadata": {},
   "outputs": [],
   "source": []
  }
 ],
 "metadata": {
  "kernelspec": {
   "display_name": "Python 3",
   "language": "python",
   "name": "python3"
  },
  "language_info": {
   "codemirror_mode": {
    "name": "ipython",
    "version": 3
   },
   "file_extension": ".py",
   "mimetype": "text/x-python",
   "name": "python",
   "nbconvert_exporter": "python",
   "pygments_lexer": "ipython3",
   "version": "3.10.12"
  }
 },
 "nbformat": 4,
 "nbformat_minor": 5
}
