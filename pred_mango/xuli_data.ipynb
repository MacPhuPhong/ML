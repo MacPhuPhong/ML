{
 "cells": [
  {
   "cell_type": "code",
   "execution_count": 1,
   "id": "3f2108fe",
   "metadata": {},
   "outputs": [
    {
     "name": "stdout",
     "output_type": "stream",
     "text": [
      "✅ Đã tách nền trắng thành đen, ảnh lưu trong: /media/pphong/D:/ML & DL/ML/pred_mango/image_tachnen/chin\n"
     ]
    }
   ],
   "source": [
    "import cv2\n",
    "import numpy as np\n",
    "import os\n",
    "\n",
    "# === Thư mục chứa ảnh gốc ===\n",
    "input_folder = r\"/media/pphong/D:/ML & DL/ML/pred_mango/image_origin/chin\"\n",
    "# === Thư mục lưu ảnh sau khi tách nền ===\n",
    "output_folder = r\"/media/pphong/D:/ML & DL/ML/pred_mango/image_tachnen/chin\"\n",
    "os.makedirs(output_folder, exist_ok=True)\n",
    "\n",
    "for fname in os.listdir(input_folder):\n",
    "    if not fname.lower().endswith(('.jpg', '.png', '.jpeg')):\n",
    "        continue\n",
    "\n",
    "    path = os.path.join(input_folder, fname)\n",
    "    img = cv2.imread(path)\n",
    "    if img is None:\n",
    "        continue\n",
    "\n",
    "    # --- Tạo mask cho nền trắng (gần trắng) ---\n",
    "    lower = np.array([200, 200, 200], dtype=np.uint8)  # Ngưỡng dưới\n",
    "    upper = np.array([255, 255, 255], dtype=np.uint8)  # Ngưỡng trên\n",
    "    mask = cv2.inRange(img, lower, upper)\n",
    "\n",
    "    # --- Đảo mask để giữ lại vùng xoài ---\n",
    "    mask_inv = cv2.bitwise_not(mask)\n",
    "\n",
    "    # --- Áp mask vào ảnh gốc → nền thành đen ---\n",
    "    result = cv2.bitwise_and(img, img, mask=mask_inv)\n",
    "\n",
    "    # --- Lưu ảnh kết quả ---\n",
    "    save_path = os.path.join(output_folder, fname)\n",
    "    cv2.imwrite(save_path, result)\n",
    "\n",
    "print(\"✅ Đã tách nền trắng thành đen, ảnh lưu trong:\", output_folder)\n"
   ]
  },
  {
   "cell_type": "code",
   "execution_count": 2,
   "id": "288d912f",
   "metadata": {},
   "outputs": [
    {
     "name": "stdout",
     "output_type": "stream",
     "text": [
      "✅ Đã tách nền trắng thành đen, ảnh lưu trong: /media/pphong/D:/ML & DL/ML/pred_mango/image_tachnen/song\n"
     ]
    }
   ],
   "source": [
    "import cv2\n",
    "import numpy as np\n",
    "import os\n",
    "\n",
    "# === Thư mục chứa ảnh gốc ===\n",
    "input_folder = r\"/media/pphong/D:/ML & DL/ML/pred_mango/image_origin/song\"\n",
    "# === Thư mục lưu ảnh sau khi tách nền ===\n",
    "output_folder = r\"/media/pphong/D:/ML & DL/ML/pred_mango/image_tachnen/song\"\n",
    "os.makedirs(output_folder, exist_ok=True)\n",
    "\n",
    "for fname in os.listdir(input_folder):\n",
    "    if not fname.lower().endswith(('.jpg', '.png', '.jpeg')):\n",
    "        continue\n",
    "\n",
    "    path = os.path.join(input_folder, fname)\n",
    "    img = cv2.imread(path)\n",
    "    if img is None:\n",
    "        continue\n",
    "\n",
    "    # --- Tạo mask cho nền trắng (gần trắng) ---\n",
    "    lower = np.array([200, 200, 200], dtype=np.uint8)  # Ngưỡng dưới\n",
    "    upper = np.array([255, 255, 255], dtype=np.uint8)  # Ngưỡng trên\n",
    "    mask = cv2.inRange(img, lower, upper)\n",
    "\n",
    "    # --- Đảo mask để giữ lại vùng xoài ---\n",
    "    mask_inv = cv2.bitwise_not(mask)\n",
    "\n",
    "    # --- Áp mask vào ảnh gốc → nền thành đen ---\n",
    "    result = cv2.bitwise_and(img, img, mask=mask_inv)\n",
    "\n",
    "    # --- Lưu ảnh kết quả ---\n",
    "    save_path = os.path.join(output_folder, fname)\n",
    "    cv2.imwrite(save_path, result)\n",
    "\n",
    "print(\"✅ Đã tách nền trắng thành đen, ảnh lưu trong:\", output_folder)\n"
   ]
  }
 ],
 "metadata": {
  "kernelspec": {
   "display_name": "Python 3",
   "language": "python",
   "name": "python3"
  },
  "language_info": {
   "codemirror_mode": {
    "name": "ipython",
    "version": 3
   },
   "file_extension": ".py",
   "mimetype": "text/x-python",
   "name": "python",
   "nbconvert_exporter": "python",
   "pygments_lexer": "ipython3",
   "version": "3.10.12"
  }
 },
 "nbformat": 4,
 "nbformat_minor": 5
}
