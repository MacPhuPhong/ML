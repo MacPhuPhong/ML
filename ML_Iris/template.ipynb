{
 "cells": [
  {
   "cell_type": "markdown",
   "id": "6347254a",
   "metadata": {},
   "source": [
    "# ĐÁNH GIÁ KẾT QUẢ TRAIN VÀ TEST\n",
    "\n",
    "**Thứ tự chạy cell:**\n",
    "- Cell 1: Đọc dữ liệu, chuẩn hóa và chia train/test (80%/20%)\n",
    "- Cell 2: Template matching và đánh giá kết quả trên bộ test"
   ]
  },
  {
   "cell_type": "code",
   "execution_count": null,
   "id": "4bc3e521",
   "metadata": {},
   "outputs": [
    {
     "name": "stdout",
     "output_type": "stream",
     "text": [
      "✅ Đã chuẩn hóa và chia dữ liệu xong!\n"
     ]
    }
   ],
   "source": [
    "import pandas as pd\n",
    "from sklearn.preprocessing import StandardScaler\n",
    "\n",
    "# 1. Đọc dữ liệu gốc\n",
    "df = pd.read_csv('Iris.csv')  # File gốc\n",
    "\n",
    "# 2. Chuẩn hóa các cột đặc trưng (bỏ 'Id' và 'Species')\n",
    "features = df.drop(columns=['Id', 'Species'])\n",
    "scaler = StandardScaler()\n",
    "features_scaled = scaler.fit_transform(features)\n",
    "\n",
    "# 3. Tạo DataFrame mới chứa dữ liệu chuẩn hóa\n",
    "normalized_df = pd.DataFrame(features_scaled, columns=features.columns)\n",
    "normalized_df['Species'] = df['Species']  # Thêm lại cột 'Species'\n",
    "normalized_df.insert(0, 'Id', df['Id'])   # Thêm lại cột 'Id'\n",
    "\n",
    "# 4. Lưu dữ liệu đã chuẩn hóa ra file\n",
    "normalized_df.to_csv('iris_normalized.csv', index=False)\n",
    "\n",
    "# 5. Tách các mẫu theo chỉ số yêu cầu (31-40, 81-90, 131-140)\n",
    "# Lưu ý: chỉ số DataFrame bắt đầu từ 0, nên 31-40 là index 30-39, v.v.\n",
    "selected_indices = list(range(30, 40)) + list(range(80, 90)) + list(range(130, 140))\n",
    "selected_df = normalized_df.iloc[selected_indices].reset_index(drop=True)\n",
    "\n",
    "# 6. Lưu dữ liệu đã tách ra file\n",
    "selected_df.to_csv('iris_selected.csv', index=False)\n",
    "\n",
    "print(\"✅ Đã chuẩn hóa và tách các mẫu theo chỉ số yêu cầu!\")"
   ]
  },
  {
   "cell_type": "code",
   "execution_count": 3,
   "id": "8a68b62a",
   "metadata": {},
   "outputs": [
    {
     "name": "stdout",
     "output_type": "stream",
     "text": [
      "     Id          Species Predicted_Species  Euclidean_Dist\n",
      "0    41      Iris-setosa       Iris-setosa        0.133848\n",
      "1    42      Iris-setosa       Iris-setosa        1.401037\n",
      "2    43      Iris-setosa       Iris-setosa        0.353849\n",
      "3    44      Iris-setosa       Iris-setosa        0.350268\n",
      "4    45      Iris-setosa       Iris-setosa        0.262725\n",
      "5    46      Iris-setosa       Iris-setosa        0.178793\n",
      "6    47      Iris-setosa       Iris-setosa        0.143244\n",
      "7    48      Iris-setosa       Iris-setosa        0.133848\n",
      "8    49      Iris-setosa       Iris-setosa        0.121168\n",
      "9    50      Iris-setosa       Iris-setosa        0.238288\n",
      "10   91  Iris-versicolor   Iris-versicolor        0.350103\n",
      "11   92  Iris-versicolor   Iris-versicolor        0.238288\n",
      "12   93  Iris-versicolor   Iris-versicolor        0.238288\n",
      "13   94  Iris-versicolor   Iris-versicolor        0.261207\n",
      "14   95  Iris-versicolor   Iris-versicolor        0.311981\n",
      "15   96  Iris-versicolor   Iris-versicolor        0.187618\n",
      "16   97  Iris-versicolor   Iris-versicolor        0.267325\n",
      "17   98  Iris-versicolor   Iris-versicolor        0.242336\n",
      "18   99  Iris-versicolor   Iris-versicolor        0.398325\n",
      "19  100  Iris-versicolor   Iris-versicolor        0.227463\n",
      "20  141   Iris-virginica    Iris-virginica        0.364407\n",
      "21  142   Iris-virginica    Iris-virginica        0.313439\n",
      "22  143   Iris-virginica    Iris-virginica        0.000000\n",
      "23  144   Iris-virginica    Iris-virginica        0.166182\n",
      "24  145   Iris-virginica    Iris-virginica        0.425928\n",
      "25  146   Iris-virginica    Iris-virginica        0.336044\n",
      "26  147   Iris-virginica    Iris-virginica        0.484467\n",
      "27  148   Iris-virginica    Iris-virginica        0.313439\n",
      "28  149   Iris-virginica    Iris-virginica        0.211900\n",
      "29  150   Iris-virginica    Iris-virginica        0.209249\n",
      "✅ Đã lưu kết quả vào iris_test_result.csv\n"
     ]
    }
   ],
   "source": [
    "# Dự đoán loài hoa cho bộ test bằng template matching (tính khoảng cách Euclidean thủ công)\n",
    "import numpy as np\n",
    "\n",
    "# ===============================\n",
    "# 1. Chuẩn bị dữ liệu\n",
    "# ===============================\n",
    "feature_cols = ['SepalLengthCm', 'SepalWidthCm', 'PetalLengthCm', 'PetalWidthCm']  # chọn 4 đặc trưng\n",
    "X_train = train_df[feature_cols].values     # dữ liệu train (numpy array)\n",
    "X_test = test_df[feature_cols].values       # dữ liệu test (numpy array)\n",
    "y_train = train_df['Species'].values        # nhãn train\n",
    "\n",
    "# ===============================\n",
    "# 2. Template Matching (Nearest Neighbor)\n",
    "# ===============================\n",
    "pred_labels = []    # danh sách nhãn dự đoán cho từng mẫu test\n",
    "min_dists = []      # danh sách khoảng cách nhỏ nhất tương ứng\n",
    "\n",
    "for x in X_test:    \n",
    "    # Tính khoảng cách Euclidean từ mẫu test x đến tất cả mẫu train\n",
    "    dists = [np.sqrt(np.sum((x - x_train)**2)) for x_train in X_train]\n",
    "    \n",
    "    # Lấy chỉ số của mẫu train gần nhất\n",
    "    nearest_idx = np.argmin(dists)\n",
    "    \n",
    "    # Ghi nhận nhãn dự đoán (lấy nhãn của train gần nhất)\n",
    "    pred_labels.append(y_train[nearest_idx])\n",
    "    \n",
    "    # Ghi nhận khoảng cách nhỏ nhất\n",
    "    min_dists.append(dists[nearest_idx])\n",
    "\n",
    "# ===============================\n",
    "# 3. Kết quả dự đoán\n",
    "# ===============================\n",
    "df_result = test_df.copy()                          # copy lại dữ liệu test gốc\n",
    "df_result['Predicted_Species'] = pred_labels        # thêm cột nhãn dự đoán\n",
    "df_result['Euclidean_Dist'] = min_dists             # thêm cột khoảng cách nhỏ nhất\n",
    "\n",
    "# Hiển thị kết quả ra màn hình\n",
    "print(df_result[['Id', 'Species', 'Predicted_Species', 'Euclidean_Dist']])\n",
    "\n",
    "# ===============================\n",
    "# 4. Lưu kết quả ra file CSV\n",
    "# ===============================\n",
    "df_result[['Id', 'Species', 'Predicted_Species', 'Euclidean_Dist']] \\\n",
    "    .to_csv(\"iris_test_result.csv\", index=False)\n",
    "\n",
    "print(\"✅ Đã lưu kết quả vào iris_test_result.csv\")\n"
   ]
  }
 ],
 "metadata": {
  "kernelspec": {
   "display_name": "Python 3",
   "language": "python",
   "name": "python3"
  },
  "language_info": {
   "codemirror_mode": {
    "name": "ipython",
    "version": 3
   },
   "file_extension": ".py",
   "mimetype": "text/x-python",
   "name": "python",
   "nbconvert_exporter": "python",
   "pygments_lexer": "ipython3",
   "version": "3.10.12"
  }
 },
 "nbformat": 4,
 "nbformat_minor": 5
}
